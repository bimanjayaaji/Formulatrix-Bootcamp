{
 "cells": [
  {
   "cell_type": "markdown",
   "metadata": {},
   "source": [
    "# LINQ\n",
    "**LINQ is Language Integrated Query**\n",
    "Linq will be helpful to select data, arrange data, or filter data from databases or collections.\n",
    "It introduced on 2008 with .NET Framework 3.0, for procedural purpose, after this, do that, and then this, etc.\n",
    "\n",
    "In linq, you have choice to call it using **Query Syntax** or **Method Syntax** in C#.\n",
    "\n",
    "Here is example for the **Query Syntax** format"
   ]
  },
  {
   "cell_type": "code",
   "execution_count": 3,
   "metadata": {
    "dotnet_interactive": {
     "language": "csharp"
    },
    "polyglot_notebook": {
     "kernelName": "csharp"
    },
    "vscode": {
     "languageId": "polyglot-notebook"
    }
   },
   "outputs": [
    {
     "name": "stdout",
     "output_type": "stream",
     "text": [
      "Charlie\n",
      "Kalvin\n"
     ]
    }
   ],
   "source": [
    "string[] names = {\"Bari\", \"Kalvin\", \"Adam\", \"Charlie\"};\n",
    "\n",
    "var order = from name in names \n",
    "            orderby name ascending \n",
    "            where name.Length>5 \n",
    "            select name;\n",
    "\n",
    "foreach(var x in order) {\n",
    "    Console.WriteLine(x);\n",
    "}"
   ]
  },
  {
   "cell_type": "markdown",
   "metadata": {},
   "source": [
    "Here is example for the **Method Syntax** method"
   ]
  },
  {
   "cell_type": "code",
   "execution_count": 3,
   "metadata": {
    "dotnet_interactive": {
     "language": "csharp"
    },
    "polyglot_notebook": {
     "kernelName": "csharp"
    },
    "vscode": {
     "languageId": "polyglot-notebook"
    }
   },
   "outputs": [
    {
     "name": "stdout",
     "output_type": "stream",
     "text": [
      "Charlie\n",
      "Kalvin\n"
     ]
    }
   ],
   "source": [
    "string[] names = {\"Bari\", \"Kalvin\", \"Adam\", \"Charlie\"};\n",
    "\n",
    "names = names.OrderBy(n => n).Where(n => n.Length>5).ToArray();\n",
    "\n",
    "foreach(var x in names) {\n",
    "    Console.WriteLine(x);\n",
    "}"
   ]
  },
  {
   "cell_type": "markdown",
   "metadata": {},
   "source": [
    "Or even the **Hybrid type**"
   ]
  },
  {
   "cell_type": "code",
   "execution_count": null,
   "metadata": {
    "dotnet_interactive": {
     "language": "csharp"
    },
    "polyglot_notebook": {
     "kernelName": "csharp"
    },
    "vscode": {
     "languageId": "polyglot-notebook"
    }
   },
   "outputs": [],
   "source": [
    "string[] names = {\"Bari\", \"Kalvin\", \"Adam\", \"Charlie\"};\n",
    "\n",
    "var order = (from name in names orderby name ascending select name).Where(n => n.Length>5);\n",
    "\n",
    "foreach(var x in order) {\n",
    "    Console.WriteLine(x);\n",
    "}"
   ]
  },
  {
   "cell_type": "markdown",
   "metadata": {},
   "source": [
    "For dictionary, we can do like this"
   ]
  },
  {
   "cell_type": "code",
   "execution_count": 4,
   "metadata": {
    "dotnet_interactive": {
     "language": "csharp"
    },
    "polyglot_notebook": {
     "kernelName": "csharp"
    },
    "vscode": {
     "languageId": "polyglot-notebook"
    }
   },
   "outputs": [
    {
     "name": "stdout",
     "output_type": "stream",
     "text": [
      "[5, Hello]\n",
      "[4, Nono]\n",
      "[3, Fucer]\n",
      "[2, Zein]\n"
     ]
    }
   ],
   "source": [
    "Dictionary<int, string> dictionary = new();\n",
    "dictionary.Add(5,\"Hello\");\n",
    "dictionary.Add(3,\"Fucer\");\n",
    "dictionary.Add(2,\"Zein\");\n",
    "dictionary.Add(4,\"Nono\");\n",
    "\n",
    "var query = dictionary.OrderByDescending(n => n.Key).ToDictionary(y => y.Key, y => y.Value);\n",
    "foreach(var i in query) {\n",
    "    Console.WriteLine(i);\n",
    "}"
   ]
  },
  {
   "cell_type": "markdown",
   "metadata": {},
   "source": [
    "Or for a string in a list, we can do like this too"
   ]
  },
  {
   "cell_type": "code",
   "execution_count": 5,
   "metadata": {
    "dotnet_interactive": {
     "language": "csharp"
    },
    "polyglot_notebook": {
     "kernelName": "csharp"
    },
    "vscode": {
     "languageId": "polyglot-notebook"
    }
   },
   "outputs": [
    {
     "name": "stdout",
     "output_type": "stream",
     "text": [
      "K i n a r a J o n g g a K i n a r a J o n g g a "
     ]
    }
   ],
   "source": [
    "List<string> nameList =new List<string>(){\"Kinara\", \"Jongga\" };\n",
    "           \n",
    "IEnumerable<char> querySyntax = from str in nameList\n",
    "                                from ch in str\n",
    "                                select ch;\n",
    "foreach (char c in querySyntax)\n",
    "    {\n",
    "        Console.Write(c + \" \");\n",
    "    }\n",
    "IEnumerable<char> methodSyntax = nameList.SelectMany(c => c);\n",
    "foreach(char c in methodSyntax) \n",
    "{\n",
    "     Console.Write(c + \" \");\n",
    "}"
   ]
  },
  {
   "cell_type": "markdown",
   "metadata": {},
   "source": [
    "For filtering a class that have collection\n",
    "Or if you want to select the brand only or want to filter the data, here you can use"
   ]
  },
  {
   "cell_type": "code",
   "execution_count": 6,
   "metadata": {
    "dotnet_interactive": {
     "language": "csharp"
    },
    "polyglot_notebook": {
     "kernelName": "csharp"
    },
    "vscode": {
     "languageId": "polyglot-notebook"
    }
   },
   "outputs": [
    {
     "name": "stdout",
     "output_type": "stream",
     "text": [
      "Chevrolet\n",
      "Ford\n",
      "Honda\n",
      "Toyota\n"
     ]
    }
   ],
   "source": [
    "public class Car\n",
    "{\n",
    "    public int ID { get; set; }\n",
    "    public string Brand { get; set; }\n",
    "    public string Model { get; set; }\n",
    "    public List<string> Features { get; set; }\n",
    "\n",
    "    public static List<Car> GetCars()\n",
    "    {\n",
    "        return new List<Car>()\n",
    "        {\n",
    "            new Car(){ID = 1, Brand = \"Toyota\", Model = \"Camry\", Features = new List<string>() { \"Air Conditioning\", \"Power Windows\", \"Bluetooth\" }},\n",
    "            new Car(){ID = 2, Brand = \"Honda\", Model = \"Civic\", Features = new List<string>() { \"Sunroof\", \"Navigation System\", \"Bluetooth\" }},\n",
    "            new Car(){ID = 3, Brand = \"Ford\", Model = \"Mustang\", Features = new List<string>() { \"Leather Seats\", \"Power Windows\", \"Bluetooth\" }},\n",
    "            new Car(){ID = 4, Brand = \"Chevrolet\", Model = \"Cruze\", Features = new List<string>() { \"Air Conditioning\", \"Power Windows\", \"Navigation System\" }},\n",
    "            new Car(){ID = 5, Brand = \"Chevrolet\", Model = \"Captiva\", Features = new List<string>() { \"Air Conditioning\", \"Leather Seats\", \"Bluetooth\" }}\n",
    "        };\n",
    "    }\n",
    "}\n",
    "List<string> carBrand = Car.GetCars().OrderBy(b => b.Brand).Select(n => n.Brand).Distinct().ToList();\n",
    "foreach(var s in carBrand) {\n",
    "    Console.WriteLine(s);\n",
    "}\n"
   ]
  },
  {
   "cell_type": "markdown",
   "metadata": {},
   "source": [
    "`Car.GetCars()` will return `List<Car>` or List of Car instances\n",
    "`.OrderBy` will sort the collection based on its `Brand` in ascending\n",
    "`.Select` will select the data only, it only select the `Brand`\n",
    "`.Distict` will remove duplicate, the example above, there are two `Chevrolet` in the List, but after filter (Distinct), it will remove duplicates"
   ]
  },
  {
   "cell_type": "markdown",
   "metadata": {},
   "source": [
    "---\n",
    "## Where\n",
    "Return a sequence of items that match a specified filter"
   ]
  },
  {
   "cell_type": "code",
   "execution_count": 7,
   "metadata": {
    "dotnet_interactive": {
     "language": "csharp"
    },
    "polyglot_notebook": {
     "kernelName": "csharp"
    },
    "vscode": {
     "languageId": "polyglot-notebook"
    }
   },
   "outputs": [
    {
     "name": "stdout",
     "output_type": "stream",
     "text": [
      "Dwight\r\n"
     ]
    }
   ],
   "source": [
    "string[] names ={ \"Michael\", \"Pam\", \"Jim\", \"Dwight\", \"Kinara\", \"Angela\", \"Kevin\", \"Toby\", \"Creed\" };\n",
    "IEnumerable<string> filteredNameswithK = names.Where(name => name.StartsWith(\"D\"));\n",
    "foreach(var e in filteredNameswithK) {\n",
    "    Console.WriteLine(e);\n",
    "}"
   ]
  },
  {
   "cell_type": "markdown",
   "metadata": {},
   "source": [
    "## OrderBy\n",
    "For sorting entities"
   ]
  },
  {
   "cell_type": "code",
   "execution_count": 10,
   "metadata": {
    "dotnet_interactive": {
     "language": "csharp"
    },
    "polyglot_notebook": {
     "kernelName": "csharp"
    },
    "vscode": {
     "languageId": "polyglot-notebook"
    }
   },
   "outputs": [
    {
     "name": "stdout",
     "output_type": "stream",
     "text": [
      "Pam\n",
      "Jim\n",
      "Toby\n",
      "Kevin\n",
      "Creed\n",
      "Dwight\n",
      "Kinara\n",
      "Angela\n",
      "Michael\n"
     ]
    }
   ],
   "source": [
    "string[] names ={ \"Michael\", \"Pam\", \"Jim\", \"Dwight\", \"Kinara\", \"Angela\", \"Kevin\", \"Toby\", \"Creed\" };\n",
    "IEnumerable<string> filteredNameswithK = names.Where(name => name.Length > 2)\n",
    "                                            .OrderBy(name => name.Length);\n",
    "foreach(var e in filteredNameswithK) {\n",
    "    Console.WriteLine(e);\n",
    "}"
   ]
  },
  {
   "cell_type": "markdown",
   "metadata": {},
   "source": [
    "## ThenBy\n",
    "Add sorting or if you want more than one sort properties, you can use ThenBy after the OrderBy"
   ]
  },
  {
   "cell_type": "code",
   "execution_count": 14,
   "metadata": {
    "dotnet_interactive": {
     "language": "csharp"
    },
    "polyglot_notebook": {
     "kernelName": "csharp"
    },
    "vscode": {
     "languageId": "polyglot-notebook"
    }
   },
   "outputs": [
    {
     "name": "stdout",
     "output_type": "stream",
     "text": [
      "Creed\n",
      "Kevin\n",
      "Angela\n",
      "Dwight\n",
      "Kinara\n",
      "Michael\n"
     ]
    }
   ],
   "source": [
    "string[] names ={ \"Michael\", \"Pam\", \"Jim\", \"Dwight\", \"Kinara\", \"Angela\", \"Kevin\", \"Toby\", \"Creed\" };\n",
    "var query = names.Where(name => name.Length > 4)\n",
    "                .OrderBy(name => name.Length)\n",
    "                .ThenBy(name => name);\n",
    "foreach(var e in query) {\n",
    "    Console.WriteLine(e);\n",
    "}"
   ]
  },
  {
   "cell_type": "markdown",
   "metadata": {},
   "source": [
    "## First, FirstOrDefault, Last, LastOrDefault\n",
    "\n",
    "Get first or last item in sequence, or return default value for the type, like **0 is for int**, **null is for reference type**. "
   ]
  },
  {
   "cell_type": "code",
   "execution_count": 20,
   "metadata": {
    "dotnet_interactive": {
     "language": "csharp"
    },
    "polyglot_notebook": {
     "kernelName": "csharp"
    },
    "vscode": {
     "languageId": "polyglot-notebook"
    }
   },
   "outputs": [
    {
     "name": "stdout",
     "output_type": "stream",
     "text": [
      "First: 1Michael\r\n"
     ]
    }
   ],
   "source": [
    "string[] names ={ \"1Michael\", \"1Pam\", \"Jim\", \"Dwight\", \"Kinara\", \"Angela\", \"Kevin\", \"Toby\", \"Creed\" };\n",
    "string first = names.Where(name => name.StartsWith(\"1\")).First();\n",
    "Console.WriteLine(\"First: \" + first);"
   ]
  },
  {
   "cell_type": "code",
   "execution_count": 22,
   "metadata": {
    "dotnet_interactive": {
     "language": "csharp"
    },
    "polyglot_notebook": {
     "kernelName": "csharp"
    },
    "vscode": {
     "languageId": "polyglot-notebook"
    }
   },
   "outputs": [
    {
     "name": "stdout",
     "output_type": "stream",
     "text": [
      "FirstOrDefault: \r\n"
     ]
    }
   ],
   "source": [
    "string firstOrDefault = names.Where(name => name.StartsWith(\"x\")).FirstOrDefault();\n",
    "Console.WriteLine(\"FirstOrDefault: \" + firstOrDefault);"
   ]
  },
  {
   "cell_type": "code",
   "execution_count": null,
   "metadata": {
    "dotnet_interactive": {
     "language": "csharp"
    },
    "polyglot_notebook": {
     "kernelName": "csharp"
    },
    "vscode": {
     "languageId": "polyglot-notebook"
    }
   },
   "outputs": [],
   "source": [
    "string last = names.Where(name => name.StartsWith(\"K\")).Last();\n",
    "Console.WriteLine(\"Last: \" + last);"
   ]
  },
  {
   "cell_type": "code",
   "execution_count": null,
   "metadata": {
    "dotnet_interactive": {
     "language": "csharp"
    },
    "polyglot_notebook": {
     "kernelName": "csharp"
    },
    "vscode": {
     "languageId": "polyglot-notebook"
    }
   },
   "outputs": [],
   "source": [
    "string lastOrDefault = names.Where(name => name.StartsWith(\"K\")).LastOrDefault();\n",
    "Console.WriteLine(\"LastOrDefault: \" + lastOrDefault); "
   ]
  },
  {
   "cell_type": "markdown",
   "metadata": {},
   "source": [
    "## Single, SingleOrDefault\n",
    "Return the only one item that matches a specified filter, or return default value."
   ]
  },
  {
   "cell_type": "code",
   "execution_count": 34,
   "metadata": {
    "dotnet_interactive": {
     "language": "csharp"
    },
    "polyglot_notebook": {
     "kernelName": "csharp"
    },
    "vscode": {
     "languageId": "polyglot-notebook"
    }
   },
   "outputs": [
    {
     "name": "stdout",
     "output_type": "stream",
     "text": [
      "Single: Kinara\r\n"
     ]
    }
   ],
   "source": [
    "string[] names ={ \"Michael\", \"1Pam\", \"Jim\", \"Dwight\", \"Kinara\", \"Angela\", \"Kevin\", \"Toby\", \"Creed\" };\n",
    "string single = names.Where(name => name.StartsWith(\"Kin\")).Single();\n",
    "Console.WriteLine(\"Single: \" + single); "
   ]
  },
  {
   "cell_type": "code",
   "execution_count": 30,
   "metadata": {
    "dotnet_interactive": {
     "language": "csharp"
    },
    "polyglot_notebook": {
     "kernelName": "csharp"
    },
    "vscode": {
     "languageId": "polyglot-notebook"
    }
   },
   "outputs": [
    {
     "name": "stdout",
     "output_type": "stream",
     "text": [
      "SingleOrDefault: \r\n"
     ]
    }
   ],
   "source": [
    "string singleOrDefault = names.Where(name => name.StartsWith(\"x\")).SingleOrDefault();\n",
    "Console.WriteLine(\"SingleOrDefault: \" + singleOrDefault);"
   ]
  },
  {
   "cell_type": "markdown",
   "metadata": {},
   "source": [
    "## GroupBy"
   ]
  },
  {
   "cell_type": "code",
   "execution_count": 1,
   "metadata": {
    "dotnet_interactive": {
     "language": "csharp"
    },
    "polyglot_notebook": {
     "kernelName": "csharp"
    },
    "vscode": {
     "languageId": "polyglot-notebook"
    }
   },
   "outputs": [
    {
     "name": "stdout",
     "output_type": "stream",
     "text": [
      "3\n",
      "HR\n",
      "Pam\n",
      "Jim\n"
     ]
    }
   ],
   "source": [
    "var employees = new[]\n",
    "    {\n",
    "        new { Name = \"Michael\", Department = \"Sales\" },\n",
    "        new { Name = \"Pam\", Department = \"HR\" },\n",
    "        new { Name = \"Jim\", Department = \"HR\" },\n",
    "        new { Name = \"Dwight\", Department = \"Sales\" },\n",
    "        new { Name = \"Angela\", Department = \"Accounting\" },\n",
    "        new { Name = \"Syahrul\", Department = \"Accounting\" },\n",
    "    };\n",
    "//Create group by same department\n",
    "var groupedEmployees = employees.GroupBy(e => e.Department);\n",
    "var group = groupedEmployees.ToArray();\n",
    "Console.WriteLine(group.Length);\n",
    "\n",
    "var x = 1;\n",
    "\n",
    "Console.WriteLine(group[x].Key);\n",
    "var name = group[x].Select(n => n.Name);\n",
    "foreach(var e in name) {\n",
    "    Console.WriteLine(e);\n",
    "}"
   ]
  },
  {
   "cell_type": "code",
   "execution_count": null,
   "metadata": {
    "dotnet_interactive": {
     "language": "csharp"
    },
    "polyglot_notebook": {
     "kernelName": "csharp"
    },
    "vscode": {
     "languageId": "polyglot-notebook"
    }
   },
   "outputs": [],
   "source": []
  }
 ],
 "metadata": {
  "language_info": {
   "name": "python"
  },
  "orig_nbformat": 4
 },
 "nbformat": 4,
 "nbformat_minor": 2
}
